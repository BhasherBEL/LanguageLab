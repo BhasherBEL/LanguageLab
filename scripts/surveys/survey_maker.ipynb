{
 "cells": [
  {
   "cell_type": "code",
   "execution_count": 1,
   "id": "5f682366-5ab6-4418-84b9-b971266af67f",
   "metadata": {},
   "outputs": [],
   "source": [
    "import pandas as pd\n",
    "import requests\n",
    "import numpy as np\n",
    "import os"
   ]
  },
  {
   "cell_type": "code",
   "execution_count": 2,
   "id": "e8af376d-ce09-4537-a724-2028777adef3",
   "metadata": {},
   "outputs": [],
   "source": [
    "API_URL = 'http://127.0.0.1:8000'\n",
    "LOCAL_ITEMS_FOLDER = '../../frontend/static/surveys/items'\n",
    "REMOTE_ITEMS_FOLDER = '/surveys/items'"
   ]
  },
  {
   "cell_type": "code",
   "execution_count": 3,
   "id": "30116c8a-a0a6-4dc7-9b69-8afb50a6252e",
   "metadata": {},
   "outputs": [],
   "source": [
    "df_items = pd.read_csv('items.csv',dtype = str)"
   ]
  },
  {
   "cell_type": "code",
   "execution_count": 4,
   "id": "265ccfaa-e86d-460c-be36-1bdfbd2c433f",
   "metadata": {},
   "outputs": [
    {
     "data": {
      "text/html": [
       "<div>\n",
       "<style scoped>\n",
       "    .dataframe tbody tr th:only-of-type {\n",
       "        vertical-align: middle;\n",
       "    }\n",
       "\n",
       "    .dataframe tbody tr th {\n",
       "        vertical-align: top;\n",
       "    }\n",
       "\n",
       "    .dataframe thead th {\n",
       "        text-align: right;\n",
       "    }\n",
       "</style>\n",
       "<table border=\"1\" class=\"dataframe\">\n",
       "  <thead>\n",
       "    <tr style=\"text-align: right;\">\n",
       "      <th></th>\n",
       "      <th>id</th>\n",
       "      <th>question</th>\n",
       "      <th>correct</th>\n",
       "      <th>option1</th>\n",
       "      <th>option2</th>\n",
       "      <th>option3</th>\n",
       "      <th>option4</th>\n",
       "      <th>option5</th>\n",
       "      <th>option6</th>\n",
       "      <th>option7</th>\n",
       "      <th>option8</th>\n",
       "    </tr>\n",
       "  </thead>\n",
       "  <tbody>\n",
       "    <tr>\n",
       "      <th>0</th>\n",
       "      <td>1</td>\n",
       "      <td>NaN</td>\n",
       "      <td>1</td>\n",
       "      <td>NaN</td>\n",
       "      <td>NaN</td>\n",
       "      <td>NaN</td>\n",
       "      <td>NaN</td>\n",
       "      <td>NaN</td>\n",
       "      <td>NaN</td>\n",
       "      <td>NaN</td>\n",
       "      <td>NaN</td>\n",
       "    </tr>\n",
       "    <tr>\n",
       "      <th>1</th>\n",
       "      <td>2</td>\n",
       "      <td>How old are you?</td>\n",
       "      <td>-1</td>\n",
       "      <td>18-24</td>\n",
       "      <td>25-34</td>\n",
       "      <td>NaN</td>\n",
       "      <td>NaN</td>\n",
       "      <td>NaN</td>\n",
       "      <td>NaN</td>\n",
       "      <td>NaN</td>\n",
       "      <td>NaN</td>\n",
       "    </tr>\n",
       "  </tbody>\n",
       "</table>\n",
       "</div>"
      ],
      "text/plain": [
       "  id          question correct option1 option2 option3 option4 option5  \\\n",
       "0  1               NaN       1     NaN     NaN     NaN     NaN     NaN   \n",
       "1  2  How old are you?      -1   18-24   25-34     NaN     NaN     NaN   \n",
       "\n",
       "  option6 option7 option8  \n",
       "0     NaN     NaN     NaN  \n",
       "1     NaN     NaN     NaN  "
      ]
     },
     "execution_count": 4,
     "metadata": {},
     "output_type": "execute_result"
    }
   ],
   "source": [
    "df_items.head(2)"
   ]
  },
  {
   "cell_type": "code",
   "execution_count": 5,
   "id": "93beb77a-7e30-437d-9f7e-e079cd2db029",
   "metadata": {},
   "outputs": [],
   "source": [
    "items = []\n",
    "for i, row in df_items.iterrows():\n",
    "    row = row.dropna()\n",
    "    id_ = int(row['id'])\n",
    "\n",
    "    o = {'id': id_, 'question': None, 'correct': None}\n",
    "    items.append(o)\n",
    "    \n",
    "    if 'question' in row:\n",
    "        o['question'] = f'text:{row[\"question\"]}'\n",
    "    elif os.path.isfile(f'{LOCAL_ITEMS_FOLDER}/{id_}/q.mp3'):\n",
    "        o['question'] = f'audio:{REMOTE_ITEMS_FOLDER}/{id_}/q.mp3'\n",
    "    elif os.path.isfile(f'{LOCAL_ITEMS_FOLDER}/{id_}/q.jpeg'):\n",
    "        o['question'] = f'image:{REMOTE_ITEMS_FOLDER}/{id_}/q.jpeg'\n",
    "    else:\n",
    "        print(f'Failed to find a question for item {id_}')\n",
    "\n",
    "    if 'correct' in row:\n",
    "        o['correct'] = int(row['correct'])\n",
    "    else:\n",
    "        print(f'Failed to find corect for item {id_}')\n",
    "\n",
    "    for j in range(1,9):\n",
    "        op = f'option{j}'\n",
    "        if op in row:\n",
    "            o[op] = 'text:' + row[op]\n",
    "        elif os.path.isfile(f'{LOCAL_ITEMS_FOLDER}/{id_}/{j}.mp3'):\n",
    "            o[op] = f'audio:{REMOTE_ITEMS_FOLDER}/{id_}/{j}.mp3'\n",
    "        elif os.path.isfile(f'{LOCAL_ITEMS_FOLDER}/{id_}/{j}.jpeg'):\n",
    "            o[op] = f'image:{REMOTE_ITEMS_FOLDER}/{id_}/{j}.jpeg'"
   ]
  },
  {
   "cell_type": "code",
   "execution_count": 6,
   "id": "a2bc630b-af5a-4f65-b6f6-4005d2f359f5",
   "metadata": {},
   "outputs": [],
   "source": [
    "groups = []\n",
    "with open('groups.csv') as file:\n",
    "    file.readline()\n",
    "    for line in file.read().split('\\n'):\n",
    "        if not line:\n",
    "            continue\n",
    "        id_, title, *its = line.split(',')\n",
    "        id_ = int(id_)\n",
    "        its = [int(x) for x in its]\n",
    "        groups.append({'id': id_, 'title': title, 'items_id': its})"
   ]
  },
  {
   "cell_type": "code",
   "execution_count": 7,
   "id": "0d8fc0ea-6ec9-4c58-8395-2a415d556fea",
   "metadata": {},
   "outputs": [],
   "source": [
    "surveys = []\n",
    "with open('surveys.csv') as file:\n",
    "    file.readline()\n",
    "    for line in file.read().split('\\n'):\n",
    "        if not line:\n",
    "            continue\n",
    "        id_, title, *gps = line.split(',')\n",
    "        id_ = int(id_)\n",
    "        gps = [int(x) for x in gps]\n",
    "        surveys.append({'id': id_, 'title': title, 'groups_id': gps})"
   ]
  },
  {
   "cell_type": "code",
   "execution_count": 8,
   "id": "39c018e7-2fb8-4b39-bd9b-fbffb810a823",
   "metadata": {},
   "outputs": [
    {
     "name": "stdin",
     "output_type": "stream",
     "text": [
      "Username:  admin@admin.tld\n",
      "Password:  admin\n"
     ]
    }
   ],
   "source": [
    "username = input('Username: ')\n",
    "password = input('Password: ')"
   ]
  },
  {
   "cell_type": "code",
   "execution_count": 9,
   "id": "96102efa-019b-4ee3-8c58-02de14b16e0c",
   "metadata": {},
   "outputs": [],
   "source": [
    "session = requests.session()"
   ]
  },
  {
   "cell_type": "code",
   "execution_count": 10,
   "id": "6eca54d9-ae9a-42c2-a825-33164c0b1591",
   "metadata": {},
   "outputs": [],
   "source": [
    "assert session.post(API_URL + '/api/v1/auth/login', data={'email': username, 'password': password}).status_code == 200, 'Wrong username or password'"
   ]
  },
  {
   "cell_type": "code",
   "execution_count": 252,
   "id": "b001af43-1f12-4994-8403-5dd4a165879e",
   "metadata": {},
   "outputs": [
    {
     "name": "stdout",
     "output_type": "stream",
     "text": [
      "Successfully created 2 items\n"
     ]
    }
   ],
   "source": [
    "for item in items:\n",
    "    assert session.delete(f'{API_URL}/api/v1/surveys/items/{item[\"id\"]}').status_code in [404, 204], f'Failed to delete item {item[\"id\"]}'\n",
    "    r = session.post(f'{API_URL}/api/v1/surveys/items', json=item)\n",
    "    if r.status_code not in [201]:\n",
    "        print(f'Failed to create item {item[\"id\"]}: {r.text}')\n",
    "        break\n",
    "else:\n",
    "    print(f'Successfully created {len(items)} items')"
   ]
  },
  {
   "cell_type": "code",
   "execution_count": 12,
   "id": "31e2bd80-5569-407b-a562-5140d016093e",
   "metadata": {},
   "outputs": [
    {
     "name": "stdout",
     "output_type": "stream",
     "text": [
      "Successfully created 2 groups\n"
     ]
    }
   ],
   "source": [
    "for group in groups:\n",
    "    group = group.copy()\n",
    "    its = group.pop('items_id')\n",
    "    assert session.delete(f'{API_URL}/api/v1/surveys/groups/{group[\"id\"]}').status_code in [404, 204], f'Failed to delete group {group[\"id\"]}'\n",
    "    r = session.post(f'{API_URL}/api/v1/surveys/groups', json=group)\n",
    "    if r.status_code not in [201]:\n",
    "        print(f'Failed to create group {group[\"id\"]}: {r.text}')\n",
    "        break\n",
    "\n",
    "    for it in its:\n",
    "        assert session.delete(f'{API_URL}/api/v1/surveys/groups/{group[\"id\"]}/items/{it}').status_code in [404, 204], f'Failed to delete item {it} from group {group[\"id\"]}'\n",
    "        r = session.post(f'{API_URL}/api/v1/surveys/groups/{group[\"id\"]}/items', json={\"question_id\": it})\n",
    "        if r.status_code not in [201]:\n",
    "            print(f'Failed to add item {it} to group {group[\"id\"]}: {r.text}')\n",
    "            break\n",
    "\n",
    "else:\n",
    "    print(f'Successfully created {len(groups)} groups')"
   ]
  },
  {
   "cell_type": "code",
   "execution_count": 13,
   "id": "3520668b-04fb-48f1-acbf-510ff4bc18c4",
   "metadata": {},
   "outputs": [
    {
     "name": "stdout",
     "output_type": "stream",
     "text": [
      "Successfully created 2 surveys\n"
     ]
    }
   ],
   "source": [
    "for survey in surveys:\n",
    "    survey = survey.copy()\n",
    "    gps = survey.pop('groups_id')\n",
    "    assert session.delete(f'{API_URL}/api/v1/surveys/{survey[\"id\"]}').status_code in [404, 204], f'Failed to delete survey {survey[\"id\"]}'\n",
    "    r = session.post(f'{API_URL}/api/v1/surveys', json=survey)\n",
    "    if r.status_code not in [201]:\n",
    "        print(f'Failed to create suvey {survey[\"id\"]}: {r.text}')\n",
    "        break\n",
    "\n",
    "    for gp in gps:\n",
    "        assert session.delete(f'{API_URL}/api/v1/surveys/{survey[\"id\"]}/groups/{gp}').status_code in [404, 204], f'Failed to delete gp {it} from survey {survey[\"id\"]}'\n",
    "        r = session.post(f'{API_URL}/api/v1/surveys/{survey[\"id\"]}/groups', json={\"group_id\": gp})\n",
    "        if r.status_code not in [201]:\n",
    "            print(f'Failed to add group {gp} to survey {survey[\"id\"]}: {r.text}')\n",
    "            break\n",
    "\n",
    "else:\n",
    "    print(f'Successfully created {len(groups)} surveys')"
   ]
  }
 ],
 "metadata": {
  "kernelspec": {
   "display_name": "Python 3 (ipykernel)",
   "language": "python",
   "name": "python3"
  },
  "language_info": {
   "codemirror_mode": {
    "name": "ipython",
    "version": 3
   },
   "file_extension": ".py",
   "mimetype": "text/x-python",
   "name": "python",
   "nbconvert_exporter": "python",
   "pygments_lexer": "ipython3",
   "version": "3.11.9"
  }
 },
 "nbformat": 4,
 "nbformat_minor": 5
}
