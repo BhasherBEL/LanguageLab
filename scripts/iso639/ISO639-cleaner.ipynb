{
 "cells": [
  {
   "cell_type": "code",
   "execution_count": 1,
   "id": "067dd39b-4011-4127-926c-fd4ca8785253",
   "metadata": {},
   "outputs": [],
   "source": [
    "import pandas as pd\n",
    "import json"
   ]
  },
  {
   "cell_type": "code",
   "execution_count": 23,
   "id": "ab673418-52cf-49ab-bd3a-c72f6f3a0399",
   "metadata": {},
   "outputs": [],
   "source": [
    "df = pd.read_csv('data.csv')[['name', 'nativeName', '639-2']].dropna().set_index('639-2')\n",
    "df['nativeName'] = df['nativeName'].str.split(',', n=1, expand=True)[0]\n",
    "df['fullName'] = df['name'] + \" - \" + df['nativeName']"
   ]
  },
  {
   "cell_type": "code",
   "execution_count": 25,
   "id": "cc6bc52c-f19e-4c7e-9675-2dfe5e64626c",
   "metadata": {},
   "outputs": [],
   "source": [
    "with open('output.json', 'w') as file:\n",
    "    df['fullName'].to_json(file, indent=2)"
   ]
  }
 ],
 "metadata": {
  "kernelspec": {
   "display_name": "Python 3 (ipykernel)",
   "language": "python",
   "name": "python3"
  },
  "language_info": {
   "codemirror_mode": {
    "name": "ipython",
    "version": 3
   },
   "file_extension": ".py",
   "mimetype": "text/x-python",
   "name": "python",
   "nbconvert_exporter": "python",
   "pygments_lexer": "ipython3",
   "version": "3.11.8"
  }
 },
 "nbformat": 4,
 "nbformat_minor": 5
}
